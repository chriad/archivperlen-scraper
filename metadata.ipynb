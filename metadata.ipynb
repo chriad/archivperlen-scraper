{
 "cells": [
  {
   "cell_type": "code",
   "execution_count": 3,
   "source": [
    "import pandas as pd"
   ],
   "outputs": [],
   "metadata": {}
  },
  {
   "cell_type": "code",
   "execution_count": 4,
   "source": [
    "data = pd.read_csv(\"./data.csv\")"
   ],
   "outputs": [],
   "metadata": {}
  },
  {
   "cell_type": "code",
   "execution_count": 33,
   "source": [
    "pd.set_option('display.max_colwidth', 500)"
   ],
   "outputs": [],
   "metadata": {}
  },
  {
   "cell_type": "code",
   "execution_count": 17,
   "source": [
    "data.title"
   ],
   "outputs": [
    {
     "output_type": "execute_result",
     "data": {
      "text/plain": [
       "0                                                       Brauerei-Pferde (1991)\n",
       "1                                  Was wurde aus der Lautsprecherreparateurin?\n",
       "2                                             Schulreise auf den Säntis (1969)\n",
       "3                                            Der Computer im Büroalltag (1985)\n",
       "4                                          Mini Archivperle mit Christina Lang\n",
       "5                                             Das Pferd als Arbeitstier (1983)\n",
       "6                                                      Die androiden Automaten\n",
       "7                                             Lausbuben Fritz und Franz (1961)\n",
       "8                                        Unterwegs auf dem Hippie-Trail (1973)\n",
       "9                                             Wie eine Zeitung entsteht (1971)\n",
       "10                                          Felsputzer der Aareschlucht (1962)\n",
       "11                                          Perlen aus dem Archiv: Töfflimania\n",
       "12                              Töfflifieber: 50 Kubik, ein Hauch von Freiheit\n",
       "13    Urlaubsreif (1972) | Ferien zuhause | Sommer in der Schweiz | SRF Archiv\n",
       "14                   Bin ich schön? Schönheitsideale im Wandel der Zeit (1996)\n",
       "15                                            Feiern vor dem Feierabend (1977)\n",
       "16                                              Casting - Trockenangeln (1968)\n",
       "17                                          Hardcore und Punk Reportage (1992)\n",
       "18      Mini-Archivperle - Mario Grossniklaus - Take That Benissimo und Risiko\n",
       "19                                          Wenn das Wetter verrückt spielt...\n",
       "Name: title, dtype: object"
      ]
     },
     "metadata": {},
     "execution_count": 17
    }
   ],
   "metadata": {}
  },
  {
   "cell_type": "code",
   "execution_count": 21,
   "source": [
    "data.columns"
   ],
   "outputs": [
    {
     "output_type": "execute_result",
     "data": {
      "text/plain": [
       "Index(['description', 'title', 'tooltip', 'url'], dtype='object')"
      ]
     },
     "metadata": {},
     "execution_count": 21
    }
   ],
   "metadata": {}
  },
  {
   "cell_type": "code",
   "execution_count": 25,
   "source": [
    "data.tooltip"
   ],
   "outputs": [
    {
     "output_type": "execute_result",
     "data": {
      "text/plain": [
       "0                                                         Brauerei-Pferde (1991).\\n  Video\\n  Archivperlen\\n  gestern\\n  22:00 Uhr,\\n  10 Min\n",
       "1                                  Was wurde aus der Lautsprecherreparateurin?.\\n  Video\\n  Archivperlen\\n  15.09.2021\\n  22:00 Uhr,\\n  4 Min\n",
       "2                                             Schulreise auf den Säntis (1969).\\n  Video\\n  Archivperlen\\n  09.09.2021\\n  22:00 Uhr,\\n  3 Min\n",
       "3                                           Der Computer im Büroalltag (1985).\\n  Video\\n  Archivperlen\\n  07.09.2021\\n  22:00 Uhr,\\n  43 Min\n",
       "4                                          Mini Archivperle mit Christina Lang.\\n  Video\\n  Archivperlen\\n  06.09.2021\\n  22:00 Uhr,\\n  3 Min\n",
       "5                                            Das Pferd als Arbeitstier (1983).\\n  Video\\n  Archivperlen\\n  03.09.2021\\n  22:00 Uhr,\\n  25 Min\n",
       "6                                                      Die androiden Automaten.\\n  Video\\n  Archivperlen\\n  30.08.2021\\n  22:00 Uhr,\\n  2 Min\n",
       "7                                             Lausbuben Fritz und Franz (1961).\\n  Video\\n  Archivperlen\\n  06.08.2021\\n  22:00 Uhr,\\n  3 Min\n",
       "8                                       Unterwegs auf dem Hippie-Trail (1973).\\n  Video\\n  Archivperlen\\n  04.08.2021\\n  22:00 Uhr,\\n  59 Min\n",
       "9                                            Wie eine Zeitung entsteht (1971).\\n  Video\\n  Archivperlen\\n  04.08.2021\\n  22:00 Uhr,\\n  26 Min\n",
       "10                                          Felsputzer der Aareschlucht (1962).\\n  Video\\n  Archivperlen\\n  20.07.2021\\n  22:00 Uhr,\\n  4 Min\n",
       "11                                          Perlen aus dem Archiv: Töfflimania.\\n  Video\\n  Archivperlen\\n  03.07.2021\\n  14:20 Uhr,\\n  8 Min\n",
       "12                             Töfflifieber: 50 Kubik, ein Hauch von Freiheit.\\n  Video\\n  Archivperlen\\n  03.07.2021\\n  13:20 Uhr,\\n  56 Min\n",
       "13    Urlaubsreif (1972) | Ferien zuhause | Sommer in der Schweiz | SRF Archiv.\\n  Video\\n  Archivperlen\\n  24.06.2021\\n  22:00 Uhr,\\n  7 Min\n",
       "14                  Bin ich schön? Schönheitsideale im Wandel der Zeit (1996).\\n  Video\\n  Archivperlen\\n  08.06.2021\\n  22:00 Uhr,\\n  29 Min\n",
       "15                                           Feiern vor dem Feierabend (1977).\\n  Video\\n  Archivperlen\\n  02.06.2021\\n  22:00 Uhr,\\n  47 Min\n",
       "16                                             Casting - Trockenangeln (1968).\\n  Video\\n  Archivperlen\\n  01.06.2021\\n  22:00 Uhr,\\n  56 Sek\n",
       "17                                         Hardcore und Punk Reportage (1992).\\n  Video\\n  Archivperlen\\n  25.05.2021\\n  22:00 Uhr,\\n  93 Min\n",
       "18      Mini-Archivperle - Mario Grossniklaus - Take That Benissimo und Risiko.\\n  Video\\n  Archivperlen\\n  20.05.2021\\n  22:00 Uhr,\\n  7 Min\n",
       "19                                          Wenn das Wetter verrückt spielt....\\n  Video\\n  Archivperlen\\n  20.05.2021\\n  22:00 Uhr,\\n  2 Min\n",
       "Name: tooltip, dtype: object"
      ]
     },
     "metadata": {},
     "execution_count": 25
    }
   ],
   "metadata": {}
  },
  {
   "cell_type": "code",
   "execution_count": 39,
   "source": [
    "data.description.head(8)"
   ],
   "outputs": [
    {
     "output_type": "execute_result",
     "data": {
      "text/plain": [
       "0                                                                                                                                                            Früher wurde das Hürlimann Bier noch mit dem Pferdewagen gebracht. Der Beruf des Bier-Fuhrmanns ist kein 08/15-Job. [«Treffpunkt» vom 4. April 1991]\n",
       "1    Ruth Vonier hat im Niederdorf über mehrere Jahre defekte Lautsprecher von Privat-Kundinnen und -Kunden, der SBB und berühmten Musikerinnen und Musiker repariert. Insbesondere die Männer staunten jeweils nicht schlecht, wenn ihre Lautsprecher nach der Reparatur bei Frau Vonier noch besser klangen als\n",
       "2                                                                                                                                                 Ab auf den Säntis geht’s für diese Schulklasse auf die Schulreise. Wohlverdient ist der Cervelat nach dem mühevollen Aufstieg! [«Schulfernsehen», 6. Juni 1969]\n",
       "3    Der Computer hält Einzug in den Büroalltag und verändert die Arbeitswelt. Ein Arbeitspsychologe beantwortet Fragen und KV-Lernende wagen Zukunftsvisionen, wie der Computer die Arbeit im Büro verändern wird. Wird der Computer die totale Kontrolle übernehmen? Oder, wie wird das Homeoffice im Jahr 2000\n",
       "4                                                                                                                    Als unsere Moderator*innen klein waren: Hier kommen ihre Highlights aus Kindertagen. Moderatorin Christina Lang war Fan von Grell-Pastell mit Kurt Aeschbacher. [«Grell-Pastell» 1988, 1989]\n",
       "5                                                                          Der Einsatz von Pferdestärke in der Schweizer Landwirtschaft ist vielfältig. Leistungsstarke Landmaschinen wie der Traktor verdrängen aber das Pferd als Arbeitstier. [«Mitenand übers Land - Strigle und gschire» vom 24. April 1983]\n",
       "6                                                                                                                                                                                                     Die Zukunft war gestern: Das Roboter-Kabinett von Jaquet-Droz («Schweizer Filmwochenschau», 27.Januar 1950)\n",
       "7                                                                                                                                             Das ist ein gefährlicher Streich, den die Lausbuben Fritz und Franz ausgeheckt haben. [«Für unsere jungen Zuschauer: Lausbubengeschichten» vom  21. September 1961]\n",
       "Name: description, dtype: object"
      ]
     },
     "metadata": {},
     "execution_count": 39
    }
   ],
   "metadata": {}
  },
  {
   "cell_type": "code",
   "execution_count": 65,
   "source": [
    "description_regex = '(?P<description>[^\\[]+)\\s{1}(?P<channel>.+])'"
   ],
   "outputs": [],
   "metadata": {}
  },
  {
   "cell_type": "code",
   "execution_count": 62,
   "source": [
    "data.description[2]"
   ],
   "outputs": [
    {
     "output_type": "execute_result",
     "data": {
      "text/plain": [
       "'Ab auf den Säntis geht’s für diese Schulklasse auf die Schulreise. Wohlverdient ist der Cervelat nach dem mühevollen Aufstieg! [«Schulfernsehen», 6. Juni 1969]'"
      ]
     },
     "metadata": {},
     "execution_count": 62
    }
   ],
   "metadata": {}
  },
  {
   "cell_type": "code",
   "execution_count": 42,
   "source": [
    "import re"
   ],
   "outputs": [],
   "metadata": {}
  },
  {
   "cell_type": "code",
   "execution_count": 66,
   "source": [
    "match = re.match(description_regex, data.description[2])"
   ],
   "outputs": [],
   "metadata": {}
  },
  {
   "cell_type": "code",
   "execution_count": 68,
   "source": [
    "list(match.groups())"
   ],
   "outputs": [
    {
     "output_type": "execute_result",
     "data": {
      "text/plain": [
       "['Ab auf den Säntis geht’s für diese Schulklasse auf die Schulreise. Wohlverdient ist der Cervelat nach dem mühevollen Aufstieg!',\n",
       " '[«Schulfernsehen», 6. Juni 1969]']"
      ]
     },
     "metadata": {},
     "execution_count": 68
    }
   ],
   "metadata": {}
  },
  {
   "cell_type": "code",
   "execution_count": null,
   "source": [],
   "outputs": [],
   "metadata": {}
  }
 ],
 "metadata": {
  "orig_nbformat": 4,
  "language_info": {
   "name": "python",
   "version": "3.8.5",
   "mimetype": "text/x-python",
   "codemirror_mode": {
    "name": "ipython",
    "version": 3
   },
   "pygments_lexer": "ipython3",
   "nbconvert_exporter": "python",
   "file_extension": ".py"
  },
  "kernelspec": {
   "name": "python3",
   "display_name": "Python 3.8.5 64-bit ('base': conda)"
  },
  "interpreter": {
   "hash": "6602930766e0cb600f257f6f88570b179b8515f350a8f349bf84dfb6bf7a20d7"
  }
 },
 "nbformat": 4,
 "nbformat_minor": 2
}